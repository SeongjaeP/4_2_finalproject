{
  "nbformat": 4,
  "nbformat_minor": 0,
  "metadata": {
    "colab": {
      "private_outputs": true,
      "provenance": [],
      "authorship_tag": "ABX9TyM+tjTHnBnuXhmXIgV2ppDU",
      "include_colab_link": true
    },
    "kernelspec": {
      "name": "python3",
      "display_name": "Python 3"
    },
    "language_info": {
      "name": "python"
    }
  },
  "cells": [
    {
      "cell_type": "markdown",
      "metadata": {
        "id": "view-in-github",
        "colab_type": "text"
      },
      "source": [
        "<a href=\"https://colab.research.google.com/github/SeongjaeP/4_2_finalproject/blob/main/simple_text_tokenize.ipynb\" target=\"_parent\"><img src=\"https://colab.research.google.com/assets/colab-badge.svg\" alt=\"Open In Colab\"/></a>"
      ]
    },
    {
      "cell_type": "markdown",
      "source": [
        "### FINDINGS와 IMPRESSION 부분만 읽고 토큰화 하는 코드입니다."
      ],
      "metadata": {
        "id": "TbK2kNRIfS9G"
      }
    },
    {
      "cell_type": "markdown",
      "source": [],
      "metadata": {
        "id": "4OwmHZ6dfp4u"
      }
    },
    {
      "cell_type": "code",
      "execution_count": null,
      "metadata": {
        "id": "s3fxWx2NfKe_"
      },
      "outputs": [],
      "source": [
        "import re\n",
        "from transformers import AutoTokenizer\n",
        "\n",
        "# Bio_ClinicalBERT 토크나이저 로드\n",
        "tokenizer = AutoTokenizer.from_pretrained(\"emilyalsentzer/Bio_ClinicalBERT\")\n",
        "\n",
        "# text data load\n",
        "text = '/content/s50414267.txt'\n",
        "with open(text, 'r', encoding='utf-8') as file:\n",
        "    text_content = file.read()\n",
        "\n",
        "# \"FINDINGS\"와 \"IMPRESSION\" 섹션 추출\n",
        "findings_match = re.search(r\"FINDINGS:(.*?)IMPRESSION:\", text_content, re.S)\n",
        "impression_match = re.search(r\"IMPRESSION:(.*)\", text_content, re.S)\n",
        "\n",
        "findings_text = findings_match.group(1).strip() if findings_match else \"\"\n",
        "impression_text = impression_match.group(1).strip() if impression_match else \"\"\n",
        "\n",
        "# 추출된 섹션의 토큰화\n",
        "findings_inputs = tokenizer(findings_text, return_tensors=\"pt\", padding=True, truncation=True, max_length=512)\n",
        "impression_inputs = tokenizer(impression_text, return_tensors=\"pt\", padding=True, truncation=True, max_length=512)\n"
      ]
    },
    {
      "cell_type": "code",
      "source": [
        "findings_text"
      ],
      "metadata": {
        "id": "09DsBaiLZUQv"
      },
      "execution_count": null,
      "outputs": []
    },
    {
      "cell_type": "code",
      "source": [
        "impression_text"
      ],
      "metadata": {
        "id": "cbjGM4fQZNGi"
      },
      "execution_count": null,
      "outputs": []
    },
    {
      "cell_type": "code",
      "source": [
        "findings_inputs"
      ],
      "metadata": {
        "id": "Hup9_ZS0asrt"
      },
      "execution_count": null,
      "outputs": []
    }
  ]
}