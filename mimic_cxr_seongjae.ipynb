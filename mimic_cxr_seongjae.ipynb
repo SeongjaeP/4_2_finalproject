{
  "nbformat": 4,
  "nbformat_minor": 0,
  "metadata": {
    "colab": {
      "private_outputs": true,
      "provenance": [],
      "authorship_tag": "ABX9TyOfrSYUrBohvs4hT2pPfGuH",
      "include_colab_link": true
    },
    "kernelspec": {
      "name": "python3",
      "display_name": "Python 3"
    },
    "language_info": {
      "name": "python"
    }
  },
  "cells": [
    {
      "cell_type": "markdown",
      "metadata": {
        "id": "view-in-github",
        "colab_type": "text"
      },
      "source": [
        "<a href=\"https://colab.research.google.com/github/SeongjaeP/4_2_finalproject/blob/main/mimic_cxr_seongjae.ipynb\" target=\"_parent\"><img src=\"https://colab.research.google.com/assets/colab-badge.svg\" alt=\"Open In Colab\"/></a>"
      ]
    },
    {
      "cell_type": "code",
      "execution_count": null,
      "metadata": {
        "id": "ynubV7hDxnLH"
      },
      "outputs": [],
      "source": [
        "from google.colab import drive\n",
        "drive.mount('/content/drive')"
      ]
    },
    {
      "cell_type": "code",
      "source": [
        "import pandas as pd\n",
        "metadata = pd.read_csv('/content/drive/MyDrive/dive_medical/mimic-cxr-2.0.0-metadata.csv')\n",
        "metadata"
      ],
      "metadata": {
        "id": "dHgz5fQ9RnVW"
      },
      "execution_count": null,
      "outputs": []
    },
    {
      "cell_type": "markdown",
      "source": [
        "## 정면, PA 데이터 전처리"
      ],
      "metadata": {
        "id": "LhnI15e_opXU"
      }
    },
    {
      "cell_type": "code",
      "source": [
        "pa_metadata = metadata[(metadata['ViewPosition'] == 'PA') & (metadata['PerformedProcedureStepDescription'] == 'CHEST (PA AND LAT)')]\n",
        "pa_metadata"
      ],
      "metadata": {
        "id": "aZUMfBJUSH7V"
      },
      "execution_count": null,
      "outputs": []
    },
    {
      "cell_type": "code",
      "source": [
        "cxr_data = pd.read_csv('/content/drive/MyDrive/dive_medical/mimic-cxr-2.0.0-chexpert.csv')\n",
        "cxr_data"
      ],
      "metadata": {
        "id": "iZqPcw1_Rtib"
      },
      "execution_count": null,
      "outputs": []
    },
    {
      "cell_type": "code",
      "source": [
        "merge_df = pd.merge(pa_metadata, cxr_data ,on='study_id', how='left')\n",
        "\n",
        "merge_df.fillna(0, inplace = True)\n",
        "merge_df"
      ],
      "metadata": {
        "id": "URdHLSkFSyzD"
      },
      "execution_count": null,
      "outputs": []
    },
    {
      "cell_type": "code",
      "source": [
        "import torch\n",
        "from transformers import DistilGPT2LMHeadModel, GPT2Tokenizer\n",
        "\n",
        "class ImageCaptioningModel:\n",
        "    def __init__(self, model_name=\"distilgpt2\"):\n",
        "        self.tokenizer = GPT2Tokenizer.from_pretrained(model_name)\n",
        "        self.model = DistilGPT2LMHeadModel.from_pretrained(model_name)\n",
        "\n",
        "    def combine_features(self, image_features, text_features):\n",
        "\n",
        "        return text_features\n",
        "\n",
        "    def generate_caption(self, combined_features):\n",
        "        inputs = self.tokenizer.encode(combined_features, return_tensors=\"pt\", add_special_tokens=True)\n",
        "        outputs = self.model.generate(inputs, max_length=50, num_beams=5, early_stopping=True)\n",
        "        caption = self.tokenizer.decode(outputs[0], skip_special_tokens=True)\n",
        "        return caption\n",
        "\n",
        "    def forward(self, image_features, text_features):\n",
        "        combined_features = self.combine_features(image_features, text_features)\n",
        "        caption = self.generate_caption(combined_features)\n",
        "        return caption"
      ],
      "metadata": {
        "id": "a3n7bifvyI9E"
      },
      "execution_count": null,
      "outputs": []
    },
    {
      "cell_type": "markdown",
      "source": [
        "### study_id 리스트로 뽑기\n",
        "토큰화해야할 txt들"
      ],
      "metadata": {
        "id": "aGnHsYq_qvD9"
      }
    },
    {
      "cell_type": "code",
      "source": [
        "study_id_list = merge_df['study_id'].tolist()\n",
        "study_id_list"
      ],
      "metadata": {
        "id": "xoxzB9mvquXg"
      },
      "execution_count": null,
      "outputs": []
    },
    {
      "cell_type": "code",
      "source": [
        "len(study_id_list)"
      ],
      "metadata": {
        "id": "7iGbXeq0w0PF"
      },
      "execution_count": null,
      "outputs": []
    },
    {
      "cell_type": "code",
      "source": [
        "chest_df = merge_df"
      ],
      "metadata": {
        "id": "HcDD-xyLmS59"
      },
      "execution_count": null,
      "outputs": []
    },
    {
      "cell_type": "markdown",
      "source": [
        "## 폐 리스트만 뽑기"
      ],
      "metadata": {
        "id": "6B3hlEQQnY78"
      }
    },
    {
      "cell_type": "code",
      "source": [
        "lung_conditions = ['Atelectasis', 'Consolidation', 'Edema', 'Lung Lesion', 'Lung Opacity', 'Pleural Effusion', 'Pleural Other', 'Pneumonia', 'Pneumothorax', 'No Finding']\n",
        "lung_df = chest_df[lung_conditions]\n",
        "lung_df"
      ],
      "metadata": {
        "id": "hX6k7Gf8nYNZ"
      },
      "execution_count": null,
      "outputs": []
    },
    {
      "cell_type": "code",
      "source": [
        "# 각 조건별 '1'의 개수 확인\n",
        "condition_counts = lung_df[lung_df == 1].count()\n",
        "\n",
        "# 겹쳐 있는 클래스의 개수 계산\n",
        "# 각 행에서 '1'의 개수를 세고, 1보다 큰 경우만 필터링하여 총 개수 계산\n",
        "overlapping_classes_count = (lung_df[lung_conditions] == 1).sum(axis=1)\n",
        "overlapping_cases = overlapping_classes_count[overlapping_classes_count > 1].count()\n",
        "\n",
        "print(\"각 조건별 '1'의 개수:\")\n",
        "print(condition_counts)\n",
        "print(\"\\n겹쳐 있는 클래스의 총 개수:\", overlapping_cases)"
      ],
      "metadata": {
        "id": "yXW-CtlCoi5s"
      },
      "execution_count": null,
      "outputs": []
    },
    {
      "cell_type": "markdown",
      "source": [
        "## 상관관계 히트맵\n",
        "\n",
        "안쓰는게 좋을듯"
      ],
      "metadata": {
        "id": "2aYes7StqERR"
      }
    },
    {
      "cell_type": "code",
      "source": [
        "import pandas as pd\n",
        "import seaborn as sns\n",
        "import matplotlib.pyplot as plt\n",
        "\n",
        "# 겹쳐있는 데이터 필터링\n",
        "overlapping_df = lung_df[(lung_df[lung_conditions] == 1).sum(axis=1) > 1]\n",
        "\n",
        "# 상관관계 계산\n",
        "correlation_matrix = overlapping_df.corr()\n",
        "\n",
        "# 히트맵 시각화\n",
        "plt.figure(figsize=(10, 8))\n",
        "sns.heatmap(correlation_matrix, annot=True, cmap='coolwarm')\n",
        "plt.title('Overlapping Lung Conditions Correlation Heatmap')\n",
        "plt.show()"
      ],
      "metadata": {
        "id": "EAMPwAggqDdE"
      },
      "execution_count": null,
      "outputs": []
    },
    {
      "cell_type": "markdown",
      "source": [
        "## subject_id_x"
      ],
      "metadata": {
        "id": "XfpQz4aPfaI9"
      }
    },
    {
      "cell_type": "code",
      "source": [],
      "metadata": {
        "id": "UNZ8vZIDfP7O"
      },
      "execution_count": null,
      "outputs": []
    }
  ]
}